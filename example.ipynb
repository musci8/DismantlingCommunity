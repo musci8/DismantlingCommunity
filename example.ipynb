{
 "cells": [
  {
   "cell_type": "code",
   "execution_count": 1,
   "id": "31a0dc58-77d3-46b8-bf97-dcd8d80c7446",
   "metadata": {},
   "outputs": [],
   "source": [
    "import dismantle\n",
    "import pandas as pd"
   ]
  },
  {
   "cell_type": "markdown",
   "id": "00e673f9-09db-4b0a-b474-d7eaae30f68d",
   "metadata": {},
   "source": [
    "## ca-CSphd"
   ]
  },
  {
   "cell_type": "code",
   "execution_count": 18,
   "id": "6b73f081-6131-458e-a561-358a4e6b37ae",
   "metadata": {},
   "outputs": [],
   "source": [
    "edges_df = pd.read_csv('data/facebook.csv')\n",
    "edgelist = edges_df.values"
   ]
  },
  {
   "cell_type": "code",
   "execution_count": 19,
   "id": "412f01ad-7ecd-4c03-97a4-d524aada27ca",
   "metadata": {},
   "outputs": [],
   "source": [
    "g = dismantle.load_network(edgelist)"
   ]
  },
  {
   "cell_type": "markdown",
   "id": "cfa9513f-9eae-462b-9065-029434bb094e",
   "metadata": {},
   "source": [
    "### Leiden"
   ]
  },
  {
   "cell_type": "code",
   "execution_count": 20,
   "id": "ca5820c9-73a3-4a50-9c89-65875407eb9d",
   "metadata": {},
   "outputs": [
    {
     "name": "stdout",
     "output_type": "stream",
     "text": [
      "R (Leiden): 0.09441469388387484\n",
      "CPU times: user 1min 32s, sys: 26.4 ms, total: 1min 32s\n",
      "Wall time: 1min 32s\n"
     ]
    }
   ],
   "source": [
    "%%time\n",
    "leiden_strategy = dismantle.dismantle_community(g,community_detection_algo='leiden')\n",
    "ranked_nodes,fraction_removed,size_first_component,_ = zip(*leiden_strategy)\n",
    "print(f'R (Leiden): {dismantle.compute_r(fraction_removed,size_first_component)}')"
   ]
  },
  {
   "cell_type": "markdown",
   "id": "3ee88d95-5259-4c1d-8053-e35aa435e6c0",
   "metadata": {},
   "source": [
    "### Louvain"
   ]
  },
  {
   "cell_type": "code",
   "execution_count": 22,
   "id": "74a01342-1436-4b83-8f8f-804f32a4b67c",
   "metadata": {},
   "outputs": [
    {
     "name": "stdout",
     "output_type": "stream",
     "text": [
      "R (Louvain): 0.09353206534279354\n",
      "CPU times: user 1min 30s, sys: 760 ms, total: 1min 30s\n",
      "Wall time: 1min 30s\n"
     ]
    }
   ],
   "source": [
    "%%time\n",
    "louvain_strategy = dismantle.dismantle_community(g,community_detection_algo='louvain')\n",
    "ranked_nodes,fraction_removed,size_first_component,_ = zip(*louvain_strategy)\n",
    "print(f'R (Louvain): {dismantle.compute_r(fraction_removed,size_first_component)}')"
   ]
  },
  {
   "cell_type": "markdown",
   "id": "3b282386-5393-4cd8-be17-8572d58f6de3",
   "metadata": {},
   "source": [
    "### Infomap"
   ]
  },
  {
   "cell_type": "code",
   "execution_count": null,
   "id": "b911b7d6-c1f9-4939-8ba8-8d162214766b",
   "metadata": {},
   "outputs": [],
   "source": [
    "%%time\n",
    "infomap_strategy = dismantle.dismantle_community(g,community_detection_algo='infomap')\n",
    "ranked_nodes,fraction_removed,size_first_component,_ = zip(*infomap_strategy)\n",
    "print(f'R (Infomap): {dismantle.compute_r(fraction_removed,size_first_component)}')"
   ]
  },
  {
   "cell_type": "markdown",
   "id": "195c8ba0-b2a8-4b52-8ec5-0f8b835319b7",
   "metadata": {},
   "source": [
    "### degree"
   ]
  },
  {
   "cell_type": "code",
   "execution_count": 23,
   "id": "b809f155-fffa-44c2-9ead-d4a7f8ce65e4",
   "metadata": {},
   "outputs": [
    {
     "name": "stdout",
     "output_type": "stream",
     "text": [
      "R (degree): 0.26591914579067155\n",
      "CPU times: user 9.05 s, sys: 8 ms, total: 9.06 s\n",
      "Wall time: 9.06 s\n"
     ]
    }
   ],
   "source": [
    "%%time\n",
    "degree_strategy = dismantle.dismantle_degree(g)\n",
    "ranked_nodes,fraction_removed,size_first_component,_ = zip(*degree_strategy)\n",
    "print(f'R (degree): {dismantle.compute_r(fraction_removed,size_first_component)}')"
   ]
  },
  {
   "cell_type": "markdown",
   "id": "de16efd4-c412-4e4c-9bae-04486eb924d8",
   "metadata": {},
   "source": [
    "### betweenness"
   ]
  },
  {
   "cell_type": "code",
   "execution_count": 21,
   "id": "5937abd7-59a7-446a-8a4e-2f32e4b225b8",
   "metadata": {},
   "outputs": [
    {
     "name": "stdout",
     "output_type": "stream",
     "text": [
      "R (betwenness): 0.044801206611500125\n",
      "CPU times: user 4min 46s, sys: 160 ms, total: 4min 46s\n",
      "Wall time: 4min 45s\n"
     ]
    }
   ],
   "source": [
    "%%time\n",
    "betweenness_strategy = dismantle.dismantle_betweenness(g)\n",
    "ranked_nodes,fraction_removed,size_first_component,_ = zip(*betweenness_strategy)\n",
    "print(f'R (betwenness): {dismantle.compute_r(fraction_removed,size_first_component)}')"
   ]
  },
  {
   "cell_type": "markdown",
   "id": "9b1bb333-3b1a-44ba-8443-be118abd72de",
   "metadata": {},
   "source": [
    "### CI2"
   ]
  },
  {
   "cell_type": "code",
   "execution_count": null,
   "id": "b44987a1-6c68-414a-a191-0d5b79232010",
   "metadata": {},
   "outputs": [],
   "source": [
    "%%time\n",
    "ci2_strategy = dismantle.dismantle_ci(g,l=2)\n",
    "ranked_nodes,fraction_removed,size_first_component,_ = zip(*ci2_strategy)\n",
    "print(f'R (CI2): {dismantle.compute_r(fraction_removed,size_first_component)}')"
   ]
  },
  {
   "cell_type": "markdown",
   "id": "7f65b478-fa93-42d9-8d41-fa7191cdeb55",
   "metadata": {},
   "source": [
    "### CI3"
   ]
  },
  {
   "cell_type": "code",
   "execution_count": null,
   "id": "e9a3a20c-ef5b-42e1-a74e-aae39fbb2f97",
   "metadata": {},
   "outputs": [],
   "source": [
    "%%time\n",
    "ci3_strategy = dismantle.dismantle_ci(g,l=3)\n",
    "ranked_nodes,fraction_removed,size_first_component,_ = zip(*ci3_strategy)\n",
    "print(f'R (CI3): {dismantle.compute_r(fraction_removed,size_first_component)}')"
   ]
  },
  {
   "cell_type": "code",
   "execution_count": null,
   "id": "36499127-b68a-471c-a4ec-97014e1d215d",
   "metadata": {},
   "outputs": [],
   "source": []
  }
 ],
 "metadata": {
  "kernelspec": {
   "display_name": "Python 3",
   "language": "python",
   "name": "python3"
  },
  "language_info": {
   "codemirror_mode": {
    "name": "ipython",
    "version": 3
   },
   "file_extension": ".py",
   "mimetype": "text/x-python",
   "name": "python",
   "nbconvert_exporter": "python",
   "pygments_lexer": "ipython3",
   "version": "3.9.9"
  }
 },
 "nbformat": 4,
 "nbformat_minor": 5
}
